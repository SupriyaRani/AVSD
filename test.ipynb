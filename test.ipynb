{
 "cells": [
  {
   "cell_type": "code",
   "execution_count": 105,
   "metadata": {},
   "outputs": [],
   "source": [
    "import json\n",
    "import pickle\n",
    "import logging\n",
    "import numpy as np\n",
    "import torch\n",
    "import torch.utils.data\n",
    "from torch.utils.data import Dataset\n",
    "from itertools import chain\n",
    "import tarfile\n",
    "from argparse import ArgumentParser\n",
    "from utils.meta.dataset import get_dataset, build_input_from_segments\n",
    "from utils.meta.VideoGPT2 import *\n",
    "from utils.meta.train import SPECIAL_TOKENS, SPECIAL_TOKENS_DICT\n"
   ]
  },
  {
   "cell_type": "code",
   "execution_count": 112,
   "metadata": {},
   "outputs": [
    {
     "data": {
      "text/html": [
       "<div>\n",
       "<style scoped>\n",
       "    .dataframe tbody tr th:only-of-type {\n",
       "        vertical-align: middle;\n",
       "    }\n",
       "\n",
       "    .dataframe tbody tr th {\n",
       "        vertical-align: top;\n",
       "    }\n",
       "\n",
       "    .dataframe thead th {\n",
       "        text-align: right;\n",
       "    }\n",
       "</style>\n",
       "<table border=\"1\" class=\"dataframe\">\n",
       "  <thead>\n",
       "    <tr style=\"text-align: right;\">\n",
       "      <th></th>\n",
       "      <th>image_id</th>\n",
       "      <th>summary</th>\n",
       "      <th>caption</th>\n",
       "      <th>answer</th>\n",
       "      <th>question</th>\n",
       "    </tr>\n",
       "  </thead>\n",
       "  <tbody>\n",
       "    <tr>\n",
       "      <th>0</th>\n",
       "      <td>YSE1G</td>\n",
       "      <td>the girl walks into a room with a dog with a t...</td>\n",
       "      <td>a person walked through a doorway into the liv...</td>\n",
       "      <td>there is only one person and a dog .</td>\n",
       "      <td>is there only one person ?</td>\n",
       "    </tr>\n",
       "    <tr>\n",
       "      <th>1</th>\n",
       "      <td>YSE1G</td>\n",
       "      <td>the girl walks into a room with a dog with a t...</td>\n",
       "      <td>a person walked through a doorway into the liv...</td>\n",
       "      <td>she walks in from outside with the towel aroun...</td>\n",
       "      <td>does she walk in with a towel around her neck ?</td>\n",
       "    </tr>\n",
       "    <tr>\n",
       "      <th>2</th>\n",
       "      <td>YSE1G</td>\n",
       "      <td>the girl walks into a room with a dog with a t...</td>\n",
       "      <td>a person walked through a doorway into the liv...</td>\n",
       "      <td>she does not interact with the dog</td>\n",
       "      <td>does she interact with the dog ?</td>\n",
       "    </tr>\n",
       "    <tr>\n",
       "      <th>3</th>\n",
       "      <td>YSE1G</td>\n",
       "      <td>the girl walks into a room with a dog with a t...</td>\n",
       "      <td>a person walked through a doorway into the liv...</td>\n",
       "      <td>she dropped the towel on the floor at the end ...</td>\n",
       "      <td>does she drop the towel on the floor ?</td>\n",
       "    </tr>\n",
       "    <tr>\n",
       "      <th>4</th>\n",
       "      <td>YSE1G</td>\n",
       "      <td>the girl walks into a room with a dog with a t...</td>\n",
       "      <td>a person walked through a doorway into the liv...</td>\n",
       "      <td>there was nothing else interacting but before ...</td>\n",
       "      <td>so she walks in to a room with a dog and drops...</td>\n",
       "    </tr>\n",
       "  </tbody>\n",
       "</table>\n",
       "</div>"
      ],
      "text/plain": [
       "  image_id                                            summary  \\\n",
       "0    YSE1G  the girl walks into a room with a dog with a t...   \n",
       "1    YSE1G  the girl walks into a room with a dog with a t...   \n",
       "2    YSE1G  the girl walks into a room with a dog with a t...   \n",
       "3    YSE1G  the girl walks into a room with a dog with a t...   \n",
       "4    YSE1G  the girl walks into a room with a dog with a t...   \n",
       "\n",
       "                                             caption  \\\n",
       "0  a person walked through a doorway into the liv...   \n",
       "1  a person walked through a doorway into the liv...   \n",
       "2  a person walked through a doorway into the liv...   \n",
       "3  a person walked through a doorway into the liv...   \n",
       "4  a person walked through a doorway into the liv...   \n",
       "\n",
       "                                              answer  \\\n",
       "0               there is only one person and a dog .   \n",
       "1  she walks in from outside with the towel aroun...   \n",
       "2                 she does not interact with the dog   \n",
       "3  she dropped the towel on the floor at the end ...   \n",
       "4  there was nothing else interacting but before ...   \n",
       "\n",
       "                                            question  \n",
       "0                         is there only one person ?  \n",
       "1    does she walk in with a towel around her neck ?  \n",
       "2                   does she interact with the dog ?  \n",
       "3             does she drop the towel on the floor ?  \n",
       "4  so she walks in to a room with a dog and drops...  "
      ]
     },
     "execution_count": 112,
     "metadata": {},
     "output_type": "execute_result"
    }
   ],
   "source": [
    "import pandas as pd\n",
    "import json\n",
    "from pandas import json_normalize\n",
    "\n",
    "text_data = json.load(open('./data/annotations/test_set.json','r'))\n",
    "text_data = json_normalize(text_data['dialogs']) \n",
    "text_data = text_data.explode('dialog').reset_index(drop=True)\n",
    "text_data = text_data.join(pd.json_normalize(text_data.dialog)).drop(columns=['dialog'])\n",
    "text_data.head()\n"
   ]
  },
  {
   "cell_type": "code",
   "execution_count": 107,
   "metadata": {},
   "outputs": [
    {
     "data": {
      "text/plain": [
       "(7330, 5)"
      ]
     },
     "execution_count": 107,
     "metadata": {},
     "output_type": "execute_result"
    }
   ],
   "source": [
    "text_data.shape"
   ]
  },
  {
   "cell_type": "code",
   "execution_count": 108,
   "metadata": {},
   "outputs": [
    {
     "data": {
      "text/plain": [
       "TUD6M    10\n",
       "6FJBD    10\n",
       "08LOY    10\n",
       "RQRRD    10\n",
       "MPHFU    10\n",
       "         ..\n",
       "CSHTJ    10\n",
       "W9BWJ    10\n",
       "B0SV3    10\n",
       "5D85P    10\n",
       "81R72    10\n",
       "Name: image_id, Length: 733, dtype: int64"
      ]
     },
     "execution_count": 108,
     "metadata": {},
     "output_type": "execute_result"
    }
   ],
   "source": [
    "text_data['image_id'].value_counts()"
   ]
  },
  {
   "cell_type": "code",
   "execution_count": 109,
   "metadata": {},
   "outputs": [
    {
     "name": "stdout",
     "output_type": "stream",
     "text": [
      "<class 'pandas.core.frame.DataFrame'>\n",
      "RangeIndex: 7330 entries, 0 to 7329\n",
      "Data columns (total 5 columns):\n",
      " #   Column    Non-Null Count  Dtype \n",
      "---  ------    --------------  ----- \n",
      " 0   image_id  7330 non-null   object\n",
      " 1   summary   7330 non-null   object\n",
      " 2   caption   7330 non-null   object\n",
      " 3   answer    7330 non-null   object\n",
      " 4   question  7330 non-null   object\n",
      "dtypes: object(5)\n",
      "memory usage: 286.5+ KB\n"
     ]
    }
   ],
   "source": [
    "text_data.info()"
   ]
  },
  {
   "cell_type": "code",
   "execution_count": 110,
   "metadata": {},
   "outputs": [],
   "source": [
    "my_tar = tarfile.open('./data/annotations.tar')\n",
    "my_tar.extractall('./data/annotations') # specify which folder to extract to\n",
    "my_tar.close()"
   ]
  },
  {
   "cell_type": "code",
   "execution_count": 111,
   "metadata": {},
   "outputs": [
    {
     "name": "stdout",
     "output_type": "stream",
     "text": [
      "read npy file header and return its shape\n"
     ]
    },
    {
     "ename": "FileNotFoundError",
     "evalue": "[Errno 2] No such file or directory: '/data/dataset/i3d_rgb_vgg19_4'",
     "output_type": "error",
     "traceback": [
      "\u001b[1;31m---------------------------------------------------------------------------\u001b[0m",
      "\u001b[1;31mFileNotFoundError\u001b[0m                         Traceback (most recent call last)",
      "\u001b[1;32m<ipython-input-111-dc099d6e446b>\u001b[0m in \u001b[0;36m<module>\u001b[1;34m\u001b[0m\n\u001b[0;32m      9\u001b[0m     \u001b[1;32mreturn\u001b[0m \u001b[0mshape\u001b[0m\u001b[1;33m\u001b[0m\u001b[1;33m\u001b[0m\u001b[0m\n\u001b[0;32m     10\u001b[0m \u001b[1;33m\u001b[0m\u001b[0m\n\u001b[1;32m---> 11\u001b[1;33m \u001b[0mget_npy_shape\u001b[0m\u001b[1;33m(\u001b[0m\u001b[1;34m'/data/dataset/i3d_rgb_vgg19_4'\u001b[0m\u001b[1;33m)\u001b[0m\u001b[1;33m\u001b[0m\u001b[1;33m\u001b[0m\u001b[0m\n\u001b[0m",
      "\u001b[1;32m<ipython-input-111-dc099d6e446b>\u001b[0m in \u001b[0;36mget_npy_shape\u001b[1;34m(filename)\u001b[0m\n\u001b[0;32m      1\u001b[0m \u001b[1;32mdef\u001b[0m \u001b[0mget_npy_shape\u001b[0m\u001b[1;33m(\u001b[0m\u001b[0mfilename\u001b[0m\u001b[1;33m)\u001b[0m\u001b[1;33m:\u001b[0m\u001b[1;33m\u001b[0m\u001b[1;33m\u001b[0m\u001b[0m\n\u001b[0;32m      2\u001b[0m     \u001b[0mprint\u001b[0m\u001b[1;33m(\u001b[0m\u001b[1;34m'read npy file header and return its shape'\u001b[0m\u001b[1;33m)\u001b[0m\u001b[1;33m\u001b[0m\u001b[1;33m\u001b[0m\u001b[0m\n\u001b[1;32m----> 3\u001b[1;33m     \u001b[1;32mwith\u001b[0m \u001b[0mopen\u001b[0m\u001b[1;33m(\u001b[0m\u001b[0mfilename\u001b[0m\u001b[1;33m,\u001b[0m \u001b[1;34m'rb'\u001b[0m\u001b[1;33m)\u001b[0m \u001b[1;32mas\u001b[0m \u001b[0mf\u001b[0m\u001b[1;33m:\u001b[0m\u001b[1;33m\u001b[0m\u001b[1;33m\u001b[0m\u001b[0m\n\u001b[0m\u001b[0;32m      4\u001b[0m         \u001b[1;32mif\u001b[0m \u001b[0mfilename\u001b[0m\u001b[1;33m.\u001b[0m\u001b[0mendswith\u001b[0m\u001b[1;33m(\u001b[0m\u001b[1;34m'.pkl'\u001b[0m\u001b[1;33m)\u001b[0m\u001b[1;33m:\u001b[0m\u001b[1;33m\u001b[0m\u001b[1;33m\u001b[0m\u001b[0m\n\u001b[0;32m      5\u001b[0m             \u001b[0mshape\u001b[0m \u001b[1;33m=\u001b[0m \u001b[0mpickle\u001b[0m\u001b[1;33m.\u001b[0m\u001b[0mload\u001b[0m\u001b[1;33m(\u001b[0m\u001b[0mf\u001b[0m\u001b[1;33m)\u001b[0m\u001b[1;33m.\u001b[0m\u001b[0mshape\u001b[0m\u001b[1;33m\u001b[0m\u001b[1;33m\u001b[0m\u001b[0m\n",
      "\u001b[1;31mFileNotFoundError\u001b[0m: [Errno 2] No such file or directory: '/data/dataset/i3d_rgb_vgg19_4'"
     ]
    }
   ],
   "source": [
    "def get_npy_shape(filename):\n",
    "    print('read npy file header and return its shape')\n",
    "    with open(filename, 'rb') as f:\n",
    "        if filename.endswith('.pkl'):\n",
    "            shape = pickle.load(f).shape\n",
    "        else:\n",
    "            major, minor = np.lib.format.read_magic(f)\n",
    "            shape, fortran, dtype = np.lib.format.read_array_header_1_0(f)\n",
    "    return shape\n",
    "\n",
    "get_npy_shape('/data/dataset/i3d_rgb_vgg19_4')"
   ]
  },
  {
   "cell_type": "code",
   "execution_count": null,
   "metadata": {},
   "outputs": [],
   "source": [
    "filename = '/data/dataset/i3d_rgb_vgg19_4'\n",
    "with open(filename, 'rb') as f:\n",
    "    if filename.endswith('.pkl'):\n",
    "        shape = pickle.load(f).shape\n",
    "    else:\n",
    "        major, minor = np.lib.format.read_magic(f)\n",
    "        shape, fortran, dtype = np.lib.format.read_array_header_1_0(f)"
   ]
  },
  {
   "cell_type": "markdown",
   "metadata": {},
   "source": [
    "text_data."
   ]
  }
 ],
 "metadata": {
  "interpreter": {
   "hash": "dfaa50f1bcaa4677f08b64917619098b9a02004f878ec252075a9d31c6fd143d"
  },
  "kernelspec": {
   "display_name": "Python 3.8.5 ('base')",
   "language": "python",
   "name": "python3"
  },
  "language_info": {
   "codemirror_mode": {
    "name": "ipython",
    "version": 3
   },
   "file_extension": ".py",
   "mimetype": "text/x-python",
   "name": "python",
   "nbconvert_exporter": "python",
   "pygments_lexer": "ipython3",
   "version": "3.8.5"
  },
  "orig_nbformat": 4
 },
 "nbformat": 4,
 "nbformat_minor": 2
}
